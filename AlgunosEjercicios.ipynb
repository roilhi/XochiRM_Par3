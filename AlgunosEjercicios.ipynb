{
 "cells": [
  {
   "cell_type": "markdown",
   "metadata": {},
   "source": [
    "## Preparatoria Xochicalco\n",
    "Se muestra la resolución de algunos ejercicios usando funciones de Python, para consulta inmediata y revisión de reactivos."
   ]
  },
  {
   "cell_type": "markdown",
   "metadata": {},
   "source": [
    "Si $f(x)=2x^2-3x+8$, ¿Cuál es el valor de $f(-2)$?"
   ]
  },
  {
   "cell_type": "code",
   "execution_count": 1,
   "metadata": {},
   "outputs": [
    {
     "name": "stdout",
     "output_type": "stream",
     "text": [
      "El valor de f(-2) es: 22\n"
     ]
    }
   ],
   "source": [
    "def cuadraticR(x):\n",
    "    return 2*x**2-3*x+8\n",
    "\n",
    "print(f'El valor de f(-2) es: {cuadraticR(-2)}')"
   ]
  },
  {
   "cell_type": "code",
   "execution_count": 2,
   "metadata": {},
   "outputs": [],
   "source": [
    "import statistics\n",
    "import matplotlib.pyplot as plt"
   ]
  },
  {
   "cell_type": "markdown",
   "metadata": {},
   "source": [
    "Generamos el gráfico con los datos de las preguntas 18-20"
   ]
  },
  {
   "cell_type": "code",
   "execution_count": 11,
   "metadata": {},
   "outputs": [
    {
     "data": {
      "image/png": "[encoded data removed]",
      "text/plain": [
       "<Figure size 432x288 with 1 Axes>"
      ]
     },
     "metadata": {
      "needs_background": "light"
     },
     "output_type": "display_data"
    }
   ],
   "source": [
    "cals =[5,6,7,7,8,9,5,6,10,6,7,8,9,8,8]\n",
    "labels =[]\n",
    "for i in range(1,len(cals)+1):\n",
    "  elem = 'est-' + str(i)\n",
    "  labels.append(elem)\n",
    "plt.figure()\n",
    "plt.xticks(rotation=90)\n",
    "plt.plot(labels,cals, marker='^')\n",
    "plt.xlabel('Estudiante')\n",
    "plt.ylabel('Calificación')\n",
    "plt.title('Calificaciones Asignatura Matemáticas')\n",
    "plt.grid()\n",
    "plt.show()"
   ]
  },
  {
   "cell_type": "markdown",
   "metadata": {},
   "source": [
    "Se calcula la media de los datos de la gráfica, usando la librería *statistics*"
   ]
  },
  {
   "cell_type": "code",
   "execution_count": 13,
   "metadata": {},
   "outputs": [
    {
     "name": "stdout",
     "output_type": "stream",
     "text": [
      "La media de los datos es: 7.266666666666667\n"
     ]
    }
   ],
   "source": [
    "print(f'La media de los datos es: {statistics.mean(datos)}')"
   ]
  },
  {
   "cell_type": "markdown",
   "metadata": {},
   "source": [
    "Se calcula la mediana de los datos de la gráfica, usando la librería *statistics*"
   ]
  },
  {
   "cell_type": "code",
   "execution_count": 15,
   "metadata": {},
   "outputs": [
    {
     "name": "stdout",
     "output_type": "stream",
     "text": [
      "La mediana de los datos es: 7\n"
     ]
    }
   ],
   "source": [
    "print(f'La mediana de los datos es: {statistics.median(datos)}')"
   ]
  },
  {
   "cell_type": "markdown",
   "metadata": {},
   "source": [
    "Se calcula la moda de los datos de la gráfica, usando la librería *statistics*"
   ]
  },
  {
   "cell_type": "code",
   "execution_count": 16,
   "metadata": {},
   "outputs": [
    {
     "name": "stdout",
     "output_type": "stream",
     "text": [
      "La mediana de los datos es: 8\n"
     ]
    }
   ],
   "source": [
    "print(f'La mediana de los datos es: {statistics.mode(datos)}')"
   ]
  },
  {
   "cell_type": "markdown",
   "metadata": {},
   "source": [
    "La siguiente función regresa los valores de la pendiente $m$ y la ordenada al origen $b$ de una recta, dada la ecuación de la recta $y=mx+b$.\n",
    "Los valores de entrada son los de las coordenadas de dos puntos $P_1(x_1,y_1)$ y $P_2(x_2,y_2)$"
   ]
  },
  {
   "cell_type": "code",
   "execution_count": 17,
   "metadata": {},
   "outputs": [],
   "source": [
    "def recta_pendiente_ordenada(x1,y1,x2,y2):\n",
    "    m = (y2-y1)/(x2-x1)\n",
    "    b = -x1*m+y1\n",
    "    return (m,b)"
   ]
  },
  {
   "cell_type": "markdown",
   "metadata": {},
   "source": [
    "Para el problema de la gráfica del modelo de la planta, se observa que la recta pasa por los valores $P_1(0,0)$ y $P_2(30,15)$"
   ]
  },
  {
   "cell_type": "code",
   "execution_count": 24,
   "metadata": {},
   "outputs": [
    {
     "name": "stdout",
     "output_type": "stream",
     "text": [
      "El valor de la pendiente de la recta es m= 0.5\n",
      "El valor de la ordenada al origen de la recta es b= 0.0\n"
     ]
    }
   ],
   "source": [
    "y = recta_pendiente_ordenada(0,0,30,15)\n",
    "print(f'El valor de la pendiente de la recta es m= {y[0]}')\n",
    "print(f'El valor de la ordenada al origen de la recta es b= {y[1]}')\n"
   ]
  },
  {
   "cell_type": "markdown",
   "metadata": {},
   "source": [
    "La ecuación de la recta sería $y=0.5x$, sin embargo en forma general se transforma a $x-2y=0$"
   ]
  },
  {
   "cell_type": "markdown",
   "metadata": {},
   "source": [
    "Para el problema de la tabla con los salarios, se observa que la recta pasa por los valores $P_1(1,1000)$ y $P_2(3,3000)$"
   ]
  },
  {
   "cell_type": "code",
   "execution_count": 26,
   "metadata": {},
   "outputs": [
    {
     "name": "stdout",
     "output_type": "stream",
     "text": [
      "El valor de la pendiente de la recta es m= 1000.0\n",
      "El valor de la ordenada al origen de la recta es b= 0.0\n"
     ]
    }
   ],
   "source": [
    "y2 = recta_pendiente_ordenada(1,1000,3,3000)\n",
    "print(f'El valor de la pendiente de la recta es m= {y2[0]}')\n",
    "print(f'El valor de la ordenada al origen de la recta es b= {y2[1]}')"
   ]
  },
  {
   "cell_type": "markdown",
   "metadata": {},
   "source": [
    "Por lo tanto la ecuación de la recta es $y=1000x$"
   ]
  },
  {
   "cell_type": "markdown",
   "metadata": {},
   "source": [
    "Para el gráfico del problema 25, se observa que la recta pasa por los valores $P_1(-2,0)$ y $P_2(0,-2)$"
   ]
  },
  {
   "cell_type": "code",
   "execution_count": 27,
   "metadata": {},
   "outputs": [
    {
     "name": "stdout",
     "output_type": "stream",
     "text": [
      "El valor de la pendiente de la recta es m= -1.0\n",
      "El valor de la ordenada al origen de la recta es b= -2.0\n"
     ]
    }
   ],
   "source": [
    "y3 = recta_pendiente_ordenada(-2, 0, 0, -2)\n",
    "print(f'El valor de la pendiente de la recta es m= {y3[0]}')\n",
    "print(f'El valor de la ordenada al origen de la recta es b= {y3[1]}')"
   ]
  },
  {
   "cell_type": "markdown",
   "metadata": {},
   "source": [
    "Por lo tanto, la ecuación pendiente-ordenada de la recta es $y=-x-2$"
   ]
  },
  {
   "cell_type": "markdown",
   "metadata": {},
   "source": []
  }
 ],
 "metadata": {
  "kernelspec": {
   "display_name": "Python 3.10.4 ('jupvenv': venv)",
   "language": "python",
   "name": "python3"
  },
  "language_info": {
   "codemirror_mode": {
    "name": "ipython",
    "version": 3
   },
   "file_extension": ".py",
   "mimetype": "text/x-python",
   "name": "python",
   "nbconvert_exporter": "python",
   "pygments_lexer": "ipython3",
   "version": "3.10.4"
  },
  "orig_nbformat": 4,
  "vscode": {
   "interpreter": {
    "hash": "6010412ce13f6fdc1d3d091b7910c8cc6890afb7082a8d57d8b330e5b9fd4047"
   }
  }
 },
 "nbformat": 4,
 "nbformat_minor": 2
}
